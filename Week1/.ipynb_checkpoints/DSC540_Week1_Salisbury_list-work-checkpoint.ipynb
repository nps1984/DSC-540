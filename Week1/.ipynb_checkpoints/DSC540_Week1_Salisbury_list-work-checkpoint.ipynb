{
 "cells": [
  {
   "cell_type": "code",
   "execution_count": 1,
   "metadata": {},
   "outputs": [],
   "source": [
    "import random"
   ]
  },
  {
   "cell_type": "code",
   "execution_count": 2,
   "metadata": {},
   "outputs": [],
   "source": [
    "# Create a list with 15 numbers between 1 and 100\n",
    "a_list = [5,1,30,19,87,57,75,32,30,10,92,88,43,19,28]"
   ]
  },
  {
   "cell_type": "code",
   "execution_count": 3,
   "metadata": {},
   "outputs": [],
   "source": [
    "# create an empty list which we will put our sorted list\n",
    "sorted_list = []"
   ]
  },
  {
   "cell_type": "code",
   "execution_count": 4,
   "metadata": {},
   "outputs": [],
   "source": [
    "# Iterate over list and put values into a sorted list\n",
    "for i in sorted(a_list):\n",
    "    sorted_list.append(i)"
   ]
  },
  {
   "cell_type": "code",
   "execution_count": 5,
   "metadata": {},
   "outputs": [],
   "source": [
    "# Generate a list of random numbers\n",
    "random_list = [random.randint(1,100) for x in range (0,15)]"
   ]
  },
  {
   "cell_type": "code",
   "execution_count": 6,
   "metadata": {},
   "outputs": [],
   "source": [
    "# Extend our sorted list by our random list\n",
    "sorted_list.extend(random_list)"
   ]
  },
  {
   "cell_type": "code",
   "execution_count": 7,
   "metadata": {},
   "outputs": [
    {
     "name": "stdout",
     "output_type": "stream",
     "text": [
      "The sorted listed with extended random values is: [1, 5, 10, 19, 19, 28, 30, 30, 32, 43, 57, 75, 87, 88, 92, 14, 99, 57, 98, 23, 31, 59, 16, 7, 36, 63, 39, 80, 5, 42]\n"
     ]
    }
   ],
   "source": [
    "# Print it out\n",
    "print(f'The sorted listed with extended random values is: {sorted_list}')"
   ]
  },
  {
   "cell_type": "code",
   "execution_count": null,
   "metadata": {},
   "outputs": [],
   "source": []
  }
 ],
 "metadata": {
  "kernelspec": {
   "display_name": "Python 3",
   "language": "python",
   "name": "python3"
  },
  "language_info": {
   "codemirror_mode": {
    "name": "ipython",
    "version": 3
   },
   "file_extension": ".py",
   "mimetype": "text/x-python",
   "name": "python",
   "nbconvert_exporter": "python",
   "pygments_lexer": "ipython3",
   "version": "3.7.1"
  }
 },
 "nbformat": 4,
 "nbformat_minor": 2
}
