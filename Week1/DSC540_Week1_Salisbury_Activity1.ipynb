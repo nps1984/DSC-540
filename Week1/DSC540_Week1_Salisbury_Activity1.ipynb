{
 "cells": [
  {
   "cell_type": "code",
   "execution_count": 1,
   "metadata": {},
   "outputs": [],
   "source": [
    "import random"
   ]
  },
  {
   "cell_type": "code",
   "execution_count": 2,
   "metadata": {},
   "outputs": [
    {
     "name": "stdout",
     "output_type": "stream",
     "text": [
      "[66, 71, 57, 44, 77, 31, 49, 1, 10, 51, 62, 41, 30, 2, 60, 97, 52, 33, 58, 75, 4, 67, 74, 63, 5, 34, 89, 58, 23, 99, 9, 85, 100, 30, 35, 70, 12, 76, 91, 11, 90, 25, 33, 41, 29, 99, 61, 71, 10, 99, 57, 85, 84, 22, 13, 11, 59, 71, 21, 64, 67, 59, 40, 45, 77, 74, 60, 42, 55, 43, 65, 51, 61, 46, 79, 32, 98, 9, 99, 39, 34, 19, 50, 9, 76, 66, 16, 49, 20, 81, 67, 86, 53, 59, 64, 80, 91, 7, 14, 65]\n"
     ]
    }
   ],
   "source": [
    "# Generate a list of random numbers and print it\n",
    "list_random = [random.randint(1,100) for x in range (0,100)]\n",
    "print(list_random)"
   ]
  },
  {
   "cell_type": "code",
   "execution_count": 3,
   "metadata": {},
   "outputs": [
    {
     "name": "stdout",
     "output_type": "stream",
     "text": [
      "[66, 57, 51, 30, 60, 33, 75, 63, 99, 9, 30, 12, 90, 33, 99, 99, 57, 84, 21, 45, 60, 42, 51, 9, 99, 39, 9, 66, 81]\n"
     ]
    }
   ],
   "source": [
    "# save numbers divisible by 3 to a new list and print it\n",
    "list_by_3 =[x for x in list_random if x % 3 == 0]\n",
    "print(list_by_3)"
   ]
  },
  {
   "cell_type": "code",
   "execution_count": 4,
   "metadata": {},
   "outputs": [],
   "source": [
    "# Get length of each list\n",
    "list_random_len = len(list_random)\n",
    "list_by_3_len = len(list_by_3)"
   ]
  },
  {
   "cell_type": "code",
   "execution_count": 5,
   "metadata": {},
   "outputs": [
    {
     "name": "stdout",
     "output_type": "stream",
     "text": [
      "71\n"
     ]
    }
   ],
   "source": [
    "# Get difference\n",
    "list_difference = list_random_len - list_by_3_len\n",
    "print(list_difference)"
   ]
  },
  {
   "cell_type": "code",
   "execution_count": 6,
   "metadata": {},
   "outputs": [],
   "source": [
    "# Generate an empty list\n",
    "differences = []"
   ]
  },
  {
   "cell_type": "code",
   "execution_count": 7,
   "metadata": {},
   "outputs": [],
   "source": [
    "# Do 3 loops\n",
    "for i in range(0, 3):\n",
    "    # Generate list with 100 random numbers from 0 to 100\n",
    "    list_random = [random.randint(1, 100) for x in range(0, 100)]\n",
    "\n",
    "    # Build list with numbers divisible by 3\n",
    "    list_by_3 = [x for x in list_random if x % 3 == 0]\n",
    "\n",
    "    # Save the length of each list\n",
    "    list_random_len = len(list_random)\n",
    "    list_by_3_len = len(list_by_3)\n",
    "\n",
    "    # Get difference between list sizes and print\n",
    "    list_difference = list_random_len - list_by_3_len\n",
    "\n",
    "    # Push difference into a list\n",
    "    differences.append(list_difference)"
   ]
  },
  {
   "cell_type": "code",
   "execution_count": 8,
   "metadata": {},
   "outputs": [
    {
     "name": "stdout",
     "output_type": "stream",
     "text": [
      "[68, 73, 63]\n"
     ]
    }
   ],
   "source": [
    "# Loop completed, print differences list\n",
    "print(differences)"
   ]
  },
  {
   "cell_type": "code",
   "execution_count": 9,
   "metadata": {},
   "outputs": [],
   "source": [
    "# Calculate the mean of the list\n",
    "diff_mean = sum(differences) / len(differences)"
   ]
  },
  {
   "cell_type": "code",
   "execution_count": 10,
   "metadata": {},
   "outputs": [
    {
     "name": "stdout",
     "output_type": "stream",
     "text": [
      "The mean of the differences is 68.0\n"
     ]
    }
   ],
   "source": [
    "print(f'The mean of the differences is {diff_mean}')"
   ]
  },
  {
   "cell_type": "code",
   "execution_count": null,
   "metadata": {},
   "outputs": [],
   "source": []
  }
 ],
 "metadata": {
  "kernelspec": {
   "display_name": "Python 3",
   "language": "python",
   "name": "python3"
  },
  "language_info": {
   "codemirror_mode": {
    "name": "ipython",
    "version": 3
   },
   "file_extension": ".py",
   "mimetype": "text/x-python",
   "name": "python",
   "nbconvert_exporter": "python",
   "pygments_lexer": "ipython3",
   "version": "3.7.1"
  }
 },
 "nbformat": 4,
 "nbformat_minor": 2
}
