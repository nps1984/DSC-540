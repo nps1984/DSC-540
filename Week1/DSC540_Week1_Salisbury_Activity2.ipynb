{
 "cells": [
  {
   "cell_type": "code",
   "execution_count": 1,
   "metadata": {},
   "outputs": [],
   "source": [
    "import string"
   ]
  },
  {
   "cell_type": "code",
   "execution_count": 2,
   "metadata": {},
   "outputs": [],
   "source": [
    "# Get text from:\n",
    "# https://github.com/TrainingByPackt/Data-Wrangling-with-Python/blob/master/Chapter01/Activity02/P%26P%20Ch01\n",
    "\n",
    "# Create multiline variable\n",
    "multiline_text = \"\"\"It is a truth universally acknowledged, that a single man in possession of a good fortune, must be in want of a wife.\n",
    "\n",
    "However little known the feelings or views of such a man may be on his first entering a neighbourhood, this truth is so well fixed in the minds of the surrounding families, that he is considered the rightful property of some one or other of their daughters.\n",
    "\n",
    "\"My dear Mr. Bennet,\" said his lady to him one day, \"have you heard that Netherfield Park is let at last?\"\n",
    "\n",
    "Mr. Bennet replied that he had not.\n",
    "\n",
    "\"But it is,\" returned she; \"for Mrs. Long has just been here, and she told me all about it.\"\n",
    "\n",
    "Mr. Bennet made no answer.\n",
    "\n",
    "\"Do you not want to know who has taken it?\" cried his wife impatiently.\n",
    "\n",
    "\"You want to tell me, and I have no objection to hearing it.\"\n",
    "\n",
    "This was invitation enough.\n",
    "\n",
    "\"Why, my dear, you must know, Mrs. Long says that Netherfield is taken by a young man of large fortune from the north of England; that he came down on Monday in a chaise and four to see the place, and was so much delighted with it, that he agreed with Mr. Morris immediately; that he is to take possession before Michaelmas, and some of his servants are to be in the house by the end of next week.\"\n",
    "\n",
    "\"What is his name?\"\n",
    "\n",
    "\"Bingley.\"\n",
    "\n",
    "\"Is he married or single?\"\n",
    "\n",
    "\"Oh! Single, my dear, to be sure! A single man of large fortune; four or five thousand a year. What a fine thing for our girls!\"\n",
    "\n",
    "\"How so? How can it affect them?\"\n",
    "\n",
    "\"My dear Mr. Bennet,\" replied his wife, \"how can you be so tiresome! You must know that I am thinking of his marrying one of them.\"\n",
    "\n",
    "\"Is that his design in settling here?\"\n",
    "\n",
    "\"Design! Nonsense, how can you talk so! But it is very likely that he may fall in love with one of them, and therefore you must visit him as soon as he comes.\"\n",
    "\n",
    "\"I see no occasion for that. You and the girls may go, or you may send them by themselves, which perhaps will be still better, for as you are as handsome as any of them, Mr. Bingley may like you the best of the party.\"\n",
    "\n",
    "\"My dear, you flatter me. I certainly have had my share of beauty, but I do not pretend to be anything extraordinary now. When a woman has five grown-up daughters, she ought to give over thinking of her own beauty.\"\n",
    "\n",
    "\"In such cases, a woman has not often much beauty to think of.\"\n",
    "\n",
    "\"But, my dear, you must indeed go and see Mr. Bingley when he comes into the neighbourhood.\"\n",
    "\n",
    "\"It is more than I engage for, I assure you.\"\n",
    "\n",
    "\"But consider your daughters. Only think what an establishment it would be for one of them. Sir William and Lady Lucas are determined to go, merely on that account, for in general, you know, they visit no newcomers. Indeed you must go, for it will be impossible for us to visit him if you do not.\"\n",
    "\n",
    "\"You are over-scrupulous, surely. I dare say Mr. Bingley will be very glad to see you; and I will send a few lines by you to assure him of my hearty consent to his marrying whichever he chooses of the girls; though I must throw in a good word for my little Lizzy.\"\n",
    "\n",
    "\"I desire you will do no such thing. Lizzy is not a bit better than the others; and I am sure she is not half so handsome as Jane, nor half so good-humoured as Lydia. But you are always giving her the preference.\"\n",
    "\n",
    "\"They have none of them much to recommend them,\" replied he; \"they are all silly and ignorant like other girls; but Lizzy has something more of quickness than her sisters.\"\n",
    "\n",
    "\"Mr. Bennet, how can you abuse your own children in such a way? You take delight in vexing me. You have no compassion for my poor nerves.\"\n",
    "\n",
    "\"You mistake me, my dear. I have a high respect for your nerves. They are my old friends. I have heard you mention them with consideration these last twenty years at least.\"\n",
    "\n",
    "\"Ah, you do not know what I suffer.\"\n",
    "\n",
    "\"But I hope you will get over it, and live to see many young men of four thousand a year come into the neighbourhood.\"\n",
    "\n",
    "\"It will be no use to us, if twenty such should come, since you will not visit them.\"\n",
    "\n",
    "\"Depend upon it, my dear, that when there are twenty, I will visit them all.\"\n",
    "\n",
    "Mr. Bennet was so odd a mixture of quick parts, sarcastic humour, reserve, and caprice, that the experience of three-and-twenty years had been insufficient to make his wife understand his character. Her mind was less difficult to develop. She was a woman of mean understanding, little information, and uncertain temper. When she was discontented, she fancied herself nervous. The business of her life was to get her daughters married; its solace was visiting and news. \"\"\""
   ]
  },
  {
   "cell_type": "code",
   "execution_count": 3,
   "metadata": {},
   "outputs": [
    {
     "name": "stdout",
     "output_type": "stream",
     "text": [
      "Type is: <class 'str'>\n",
      "Length is: 4475\n"
     ]
    }
   ],
   "source": [
    "# Verify type and length\n",
    "print(f'Type is: {type(multiline_text)}')\n",
    "print(f'Length is: {len(multiline_text)}')"
   ]
  },
  {
   "cell_type": "code",
   "execution_count": 4,
   "metadata": {},
   "outputs": [],
   "source": [
    "# Remove all newline characters\n",
    "multiline_text = multiline_text.replace(\"\\n\", \"\")"
   ]
  },
  {
   "cell_type": "code",
   "execution_count": 5,
   "metadata": {},
   "outputs": [],
   "source": [
    "# A string is a list, so loop through each character in multiline string\n",
    "cleaned_text = \"\"\n",
    "for c in multiline_text:\n",
    "    # Add spaces back to cleaned text\n",
    "    if c == \" \":\n",
    "        cleaned_text += c\n",
    "    # if alpha-numeric, add to cleaned list\n",
    "    elif c.isalnum():\n",
    "        cleaned_text += c\n",
    "    # if it is a non-alphanumeric character, remove it\n",
    "    else:\n",
    "        cleaned_text += \" \""
   ]
  },
  {
   "cell_type": "code",
   "execution_count": 6,
   "metadata": {},
   "outputs": [],
   "source": [
    "# at this point remove all newlines and punctuation is removed, convert everything to lowercase\n",
    "cleaned_text = cleaned_text.lower()"
   ]
  },
  {
   "cell_type": "code",
   "execution_count": 7,
   "metadata": {},
   "outputs": [],
   "source": [
    "# Split string on space and create new list of words\n",
    "word_list = cleaned_text.split()"
   ]
  },
  {
   "cell_type": "code",
   "execution_count": 8,
   "metadata": {},
   "outputs": [
    {
     "name": "stdout",
     "output_type": "stream",
     "text": [
      "Number of words is: 852\n"
     ]
    }
   ],
   "source": [
    "# See how many words we have\n",
    "print(f'Number of words is: {len(word_list)}')"
   ]
  },
  {
   "cell_type": "code",
   "execution_count": 9,
   "metadata": {},
   "outputs": [],
   "source": [
    "# Create dictionary keys from our word_list list\n",
    "unique_words = dict.fromkeys(word_list)"
   ]
  },
  {
   "cell_type": "code",
   "execution_count": 10,
   "metadata": {},
   "outputs": [
    {
     "name": "stdout",
     "output_type": "stream",
     "text": [
      "Number of unique words: 320\n"
     ]
    }
   ],
   "source": [
    "# from keys returns a dict, convert keys to a list to see how many unique words we have\n",
    "print(f'Number of unique words: {len(list(unique_words.keys()))}')"
   ]
  },
  {
   "cell_type": "code",
   "execution_count": 11,
   "metadata": {},
   "outputs": [],
   "source": [
    "# loop through list, if key is not initialized, put a 1, else add 1 to the existing value\n",
    "for w in word_list:\n",
    "    if unique_words[w] is None:\n",
    "        unique_words[w] = 1\n",
    "    else:\n",
    "        unique_words[w] += 1"
   ]
  },
  {
   "cell_type": "code",
   "execution_count": 12,
   "metadata": {},
   "outputs": [],
   "source": [
    "# Sort dict by values\n",
    "top_words = sorted(unique_words.items(), key=lambda item: item[1], reverse=True)"
   ]
  },
  {
   "cell_type": "code",
   "execution_count": 13,
   "metadata": {},
   "outputs": [
    {
     "name": "stdout",
     "output_type": "stream",
     "text": [
      "1: ('of', 29)\n",
      "2: ('to', 22)\n",
      "3: ('a', 21)\n",
      "4: ('the', 18)\n",
      "5: ('and', 17)\n",
      "6: ('i', 17)\n",
      "7: ('that', 15)\n",
      "8: ('it', 14)\n",
      "9: ('is', 14)\n",
      "10: ('my', 13)\n",
      "11: ('in', 12)\n",
      "12: ('for', 12)\n",
      "13: ('be', 11)\n",
      "14: ('his', 11)\n",
      "15: ('he', 11)\n",
      "16: ('them', 11)\n",
      "17: ('mr', 10)\n",
      "18: ('not', 9)\n",
      "19: ('will', 9)\n",
      "20: ('so', 8)\n",
      "21: ('dear', 8)\n",
      "22: ('but', 8)\n",
      "23: ('was', 8)\n",
      "24: ('are', 8)\n",
      "25: ('must', 7)\n"
     ]
    }
   ],
   "source": [
    "# Print top 25\n",
    "i = 1\n",
    "while i < 26:\n",
    "    print(f'{i}: {top_words[i]}')\n",
    "    i += 1"
   ]
  },
  {
   "cell_type": "code",
   "execution_count": null,
   "metadata": {},
   "outputs": [],
   "source": []
  }
 ],
 "metadata": {
  "kernelspec": {
   "display_name": "Python 3",
   "language": "python",
   "name": "python3"
  },
  "language_info": {
   "codemirror_mode": {
    "name": "ipython",
    "version": 3
   },
   "file_extension": ".py",
   "mimetype": "text/x-python",
   "name": "python",
   "nbconvert_exporter": "python",
   "pygments_lexer": "ipython3",
   "version": "3.7.1"
  }
 },
 "nbformat": 4,
 "nbformat_minor": 2
}
