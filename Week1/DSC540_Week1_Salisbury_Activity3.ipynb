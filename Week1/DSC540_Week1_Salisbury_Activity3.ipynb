{
 "cells": [
  {
   "cell_type": "code",
   "execution_count": 1,
   "metadata": {},
   "outputs": [],
   "source": [
    "from itertools import permutations, dropwhile\n",
    "import math"
   ]
  },
  {
   "cell_type": "code",
   "execution_count": 3,
   "metadata": {},
   "outputs": [],
   "source": [
    "# See help documentation\n",
    "permutations?"
   ]
  },
  {
   "cell_type": "code",
   "execution_count": 4,
   "metadata": {},
   "outputs": [],
   "source": [
    "dropwhile?"
   ]
  },
  {
   "cell_type": "code",
   "execution_count": 5,
   "metadata": {},
   "outputs": [
    {
     "name": "stdout",
     "output_type": "stream",
     "text": [
      "<itertools.permutations object at 0x00000193E7ADEC50>\n"
     ]
    }
   ],
   "source": [
    "# Will print permutations object\n",
    "print(permutations(range(3)))"
   ]
  },
  {
   "cell_type": "code",
   "execution_count": 6,
   "metadata": {},
   "outputs": [
    {
     "name": "stdout",
     "output_type": "stream",
     "text": [
      "Print the actual permutations:\n",
      "(0, 1, 2)\n",
      "(0, 2, 1)\n",
      "(1, 0, 2)\n",
      "(1, 2, 0)\n",
      "(2, 0, 1)\n",
      "(2, 1, 0)\n"
     ]
    }
   ],
   "source": [
    "print('Print the actual permutations:')\n",
    "for num in permutations(range(3)):\n",
    "    print(num)\n",
    "    # Use assert to ensure we have tuple\n",
    "    assert isinstance(num, tuple)"
   ]
  },
  {
   "cell_type": "code",
   "execution_count": 7,
   "metadata": {},
   "outputs": [
    {
     "name": "stdout",
     "output_type": "stream",
     "text": [
      "Print permutations (as list) that do not start with 0\n",
      "[1, 2]\n",
      "[2, 1]\n",
      "[1, 0, 2]\n",
      "[1, 2, 0]\n",
      "[2, 0, 1]\n",
      "[2, 1, 0]\n"
     ]
    }
   ],
   "source": [
    "print('Print permutations (as list) that do not start with 0')\n",
    "for num in permutations(range(3)):\n",
    "    # Remove permutations that start with a 0\n",
    "    print(list(dropwhile(lambda x : x <= 0, num)))"
   ]
  },
  {
   "cell_type": "code",
   "execution_count": 8,
   "metadata": {},
   "outputs": [],
   "source": [
    "def convert_to_number(stack):\n",
    "    number = 0\n",
    "\n",
    "    # iterate over stack\n",
    "    for i in range(0, len(stack)):\n",
    "        # example [1,0,2]\n",
    "        # (2 * 10^0) = 2\n",
    "        # (0 * 10^1) = 0\n",
    "        # (1 * 10^2) = 100\n",
    "        # 2 + 0 + 100 = 102\n",
    "        number += (stack.pop() * (math.pow(10, i)))\n",
    "    return number"
   ]
  },
  {
   "cell_type": "code",
   "execution_count": 9,
   "metadata": {},
   "outputs": [
    {
     "name": "stdout",
     "output_type": "stream",
     "text": [
      "Printing permutations (as list) before converting to number:\n",
      "[1, 2]\n",
      "Converted to number: 12.0\n",
      "[2, 1]\n",
      "Converted to number: 21.0\n",
      "[1, 0, 2]\n",
      "Converted to number: 102.0\n",
      "[1, 2, 0]\n",
      "Converted to number: 120.0\n",
      "[2, 0, 1]\n",
      "Converted to number: 201.0\n",
      "[2, 1, 0]\n",
      "Converted to number: 210.0\n"
     ]
    }
   ],
   "source": [
    "# Loop over range\n",
    "print('Printing permutations (as list) before converting to number:')\n",
    "for num in permutations(range(3)):\n",
    "    # use dropwhile to remove tuples that start with 0\n",
    "    number_stack = list(dropwhile(lambda x: x <= 0, num))\n",
    "\n",
    "    print(number_stack)\n",
    "\n",
    "    # Pass stack to function\n",
    "    print(f'Converted to number: {convert_to_number(number_stack)}')"
   ]
  },
  {
   "cell_type": "code",
   "execution_count": null,
   "metadata": {},
   "outputs": [],
   "source": []
  }
 ],
 "metadata": {
  "kernelspec": {
   "display_name": "Python 3",
   "language": "python",
   "name": "python3"
  },
  "language_info": {
   "codemirror_mode": {
    "name": "ipython",
    "version": 3
   },
   "file_extension": ".py",
   "mimetype": "text/x-python",
   "name": "python",
   "nbconvert_exporter": "python",
   "pygments_lexer": "ipython3",
   "version": "3.7.1"
  }
 },
 "nbformat": 4,
 "nbformat_minor": 2
}
